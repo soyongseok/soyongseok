{
 "cells": [
  {
   "cell_type": "markdown",
   "id": "5d6c34c8",
   "metadata": {},
   "source": [
    "# Matplotlib 퀴즈"
   ]
  },
  {
   "cell_type": "markdown",
   "id": "67a31c94",
   "metadata": {},
   "source": [
    "다음은 대한민국 영화 중에서 관객 수가 가장 많은 상위 8개의 데이터입니다.  \n",
    "주어진 코드를이용하여 퀴즈를 풀어보시오."
   ]
  },
  {
   "cell_type": "markdown",
   "id": "7a45c4cd",
   "metadata": {},
   "source": [
    "## 주의 사항"
   ]
  },
  {
   "cell_type": "markdown",
   "id": "4b254da2",
   "metadata": {},
   "source": [
    "1. 코드는 영상 본문 또는 고정 댓글로 제공됩니다.\n",
    "2. 해결이 어려운 경우 구글링 또는 앞에서 공부한 내용을 참고하셔도 좋습니다."
   ]
  },
  {
   "cell_type": "code",
   "execution_count": null,
   "id": "64a0be80",
   "metadata": {},
   "outputs": [],
   "source": []
  },
  {
   "cell_type": "markdown",
   "id": "92a3adfd",
   "metadata": {},
   "source": [
    "## 1) 영화 데이터를 활용하여 x 축은 영화, y 축은 평점인 막대 그래프를 만드시오."
   ]
  },
  {
   "cell_type": "code",
   "execution_count": null,
   "id": "7a0e7a05",
   "metadata": {},
   "outputs": [],
   "source": []
  },
  {
   "cell_type": "markdown",
   "id": "9fc750b9",
   "metadata": {},
   "source": [
    "## 2) 앞에서 만든 막대 그래프에 제시된 세부 사항을 적용하시오."
   ]
  },
  {
   "cell_type": "markdown",
   "id": "bd8067a5",
   "metadata": {},
   "source": [
    "* 제목: 국낸 TOP 8 영화 평점 정보  \n",
    "* x축 label: 영화(90도 회전)  \n",
    "* y축 label: 평점  "
   ]
  },
  {
   "cell_type": "code",
   "execution_count": null,
   "id": "99c20edb",
   "metadata": {},
   "outputs": [],
   "source": []
  },
  {
   "cell_type": "markdown",
   "id": "210ce63e",
   "metadata": {},
   "source": [
    "## 3) 개봉 연도별 평점 변화추이를 꺾은선 그래프로 그리시오.\n",
    "\n",
    "\n",
    "### 연도별 평균 데이터를 구하는 코드는 다음과 같습니다."
   ]
  },
  {
   "cell_type": "code",
   "execution_count": 2,
   "id": "af095862",
   "metadata": {},
   "outputs": [
    {
     "ename": "NameError",
     "evalue": "name 'df' is not defined",
     "output_type": "error",
     "traceback": [
      "\u001b[1;31m---------------------------------------------------------------------------\u001b[0m",
      "\u001b[1;31mNameError\u001b[0m                                 Traceback (most recent call last)",
      "\u001b[1;32m~\\AppData\\Local\\Temp/ipykernel_9220/1206003490.py\u001b[0m in \u001b[0;36m<module>\u001b[1;34m\u001b[0m\n\u001b[1;32m----> 1\u001b[1;33m \u001b[0mdf_group\u001b[0m \u001b[1;33m=\u001b[0m \u001b[0mdf\u001b[0m\u001b[1;33m.\u001b[0m\u001b[0mgroupby\u001b[0m\u001b[1;33m(\u001b[0m\u001b[1;34m'개봉 연도'\u001b[0m\u001b[1;33m)\u001b[0m\u001b[1;33m.\u001b[0m\u001b[0mmean\u001b[0m\u001b[1;33m(\u001b[0m\u001b[1;33m)\u001b[0m\u001b[1;33m\u001b[0m\u001b[1;33m\u001b[0m\u001b[0m\n\u001b[0m\u001b[0;32m      2\u001b[0m \u001b[0mdf_group\u001b[0m\u001b[1;33m\u001b[0m\u001b[1;33m\u001b[0m\u001b[0m\n",
      "\u001b[1;31mNameError\u001b[0m: name 'df' is not defined"
     ]
    }
   ],
   "source": [
    "df_group = df.groupby('개봉 연도').mean()\n",
    "df_group"
   ]
  },
  {
   "cell_type": "code",
   "execution_count": null,
   "id": "173e85cb",
   "metadata": {},
   "outputs": [],
   "source": []
  },
  {
   "cell_type": "markdown",
   "id": "f711b3fb",
   "metadata": {},
   "source": [
    "## 4) 앞에서 만든 그래프에 제시된 세부 사항을 적용하시오."
   ]
  },
  {
   "cell_type": "markdown",
   "id": "4e89472c",
   "metadata": {},
   "source": [
    "* marker:'o'  \n",
    "* x축 눈금: 5년 단위(2005, 2010, 2015, 2020)\n",
    "* y축 범위: 최소 7, 최대 10"
   ]
  },
  {
   "cell_type": "code",
   "execution_count": null,
   "id": "c6890f32",
   "metadata": {},
   "outputs": [],
   "source": []
  },
  {
   "cell_type": "markdown",
   "id": "2bf119a8",
   "metadata": {},
   "source": [
    "## 5) 평점이 9점 이상인 영화의 비율을 확인할 수 있는 원 그래프를 제시된 세부 사할을 적용하여 그리시오.\n",
    "\n",
    "* label: 9점 이상 / 9점 미만\n",
    "* 퍼센트: 소수점 첫째자리까지 표시\n",
    "* 범례: 그래프 우측에 표시"
   ]
  },
  {
   "cell_type": "code",
   "execution_count": null,
   "id": "edbce082",
   "metadata": {},
   "outputs": [],
   "source": []
  }
 ],
 "metadata": {
  "kernelspec": {
   "display_name": "Python 3 (ipykernel)",
   "language": "python",
   "name": "python3"
  },
  "language_info": {
   "codemirror_mode": {
    "name": "ipython",
    "version": 3
   },
   "file_extension": ".py",
   "mimetype": "text/x-python",
   "name": "python",
   "nbconvert_exporter": "python",
   "pygments_lexer": "ipython3",
   "version": "3.9.7"
  }
 },
 "nbformat": 4,
 "nbformat_minor": 5
}
